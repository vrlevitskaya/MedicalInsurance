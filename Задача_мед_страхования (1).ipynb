{
  "nbformat": 4,
  "nbformat_minor": 0,
  "metadata": {
    "colab": {
      "provenance": []
    },
    "kernelspec": {
      "name": "python3",
      "display_name": "Python 3"
    },
    "language_info": {
      "name": "python"
    }
  },
  "cells": [
    {
      "cell_type": "code",
      "execution_count": null,
      "metadata": {
        "id": "3pBp9VEZrERW"
      },
      "outputs": [],
      "source": [
        "from google.colab import drive\n",
        "drive.mount('/content/gdrive/')"
      ]
    },
    {
      "cell_type": "code",
      "source": [
        "!ls /content/gdrive/"
      ],
      "metadata": {
        "id": "_EsetJCWrMSs"
      },
      "execution_count": null,
      "outputs": []
    },
    {
      "cell_type": "code",
      "execution_count": null,
      "metadata": {
        "id": "2q37vDLm7-aX"
      },
      "outputs": [],
      "source": [
        "import numpy as np\n",
        "import pandas as pd\n",
        "import scipy.io as io\n",
        "from sklearn import metrics\n",
        "from sklearn.preprocessing import StandardScaler\n",
        "from sklearn.model_selection import train_test_split\n",
        "from sklearn.linear_model import LinearRegression, Lasso, Ridge, SGDRegressor, SGDClassifier\n"
      ]
    },
    {
      "cell_type": "code",
      "source": [
        "dataX = pd.read_csv(\"/content/gdrive/MyDrive/7_36.csv\", header=None, usecols=[0, 1], sep=',') #change the path\n",
        "\n",
        "dataY = pd.read_csv(\"/content/gdrive/MyDrive/7_36.csv\", header=None, usecols=[2], sep=',') #change the path\n",
        "data_X = np.asarray(dataX)\n",
        "\n",
        "data_Y = np.asarray(dataY)"
      ],
      "metadata": {
        "id": "0qv1lvhH8RzK"
      },
      "execution_count": null,
      "outputs": []
    },
    {
      "cell_type": "code",
      "source": [
        "X_train, X_test, Y_train, Y_test = train_test_split(data_X, data_Y, test_size=0.3,random_state=1)"
      ],
      "metadata": {
        "id": "dVrR5MZ4sMhE"
      },
      "execution_count": null,
      "outputs": []
    },
    {
      "cell_type": "code",
      "source": [
        "from sklearn import metrics\n",
        "\n",
        "def calc_metrics(true, pred):\n",
        "    mse = metrics.mean_squared_error(true, pred)\n",
        "    rmse = np.sqrt(mse)\n",
        "    mae = metrics.mean_absolute_error(true, pred)\n",
        "    r2=metrics.r2_score(true, pred) #Коэффициент детерминации измеряет долю дисперсии.Фактически, данная мера качества — это нормированная среднеквадратичная ошибка. Если r2 близка к единице, то модель хорошо объясняет данные.\n",
        "    \n",
        "    print(\"RMSE:  {}\\nMAE:   {} \\nR2:   {}\".format(rmse, mae, r2))"
      ],
      "metadata": {
        "id": "7tVtdHeoB3iV"
      },
      "execution_count": null,
      "outputs": []
    },
    {
      "cell_type": "code",
      "source": [
        "model_linear = LinearRegression()\n",
        "model_linear.fit(X_train, Y_train)\n",
        "print(model_linear.coef_, model_linear.intercept_)"
      ],
      "metadata": {
        "colab": {
          "base_uri": "https://localhost:8080/"
        },
        "id": "sDuXkLyJkkdv",
        "outputId": "5f53de19-d6f6-475c-d088-9a12a27b5c30"
      },
      "execution_count": null,
      "outputs": [
        {
          "output_type": "stream",
          "name": "stdout",
          "text": [
            "[[ 0.04723911 -0.56131954]] [1.36984658]\n"
          ]
        }
      ]
    },
    {
      "cell_type": "code",
      "source": [
        "y_pred_linear = model_linear.predict(X_test)\n",
        "calc_metrics(Y_test, y_pred_linear)"
      ],
      "metadata": {
        "colab": {
          "base_uri": "https://localhost:8080/"
        },
        "id": "D6ld31b7MRjs",
        "outputId": "9a37a7e2-555b-4e75-a11e-ba94886e9457"
      },
      "execution_count": null,
      "outputs": [
        {
          "output_type": "stream",
          "name": "stdout",
          "text": [
            "RMSE:  4.724573106874593\n",
            "MAE:   3.73352675605398 \n",
            "R2:   0.5831062784319236\n"
          ]
        }
      ]
    }
  ]
}